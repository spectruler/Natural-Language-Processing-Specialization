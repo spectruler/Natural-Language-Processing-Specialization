{
 "cells": [
  {
   "cell_type": "markdown",
   "metadata": {},
   "source": [
    "# Vanishing Gradients : Ungraded Lecture Notebook\n",
    "In this notebook you'll take another look at vanishing gradients, from an intuitive standpoint.\n",
    "## Background\n",
    "Adding layers to a neural network introduces multiplicative effects in both forward and backward propagation. The back prop in particular presents a problem as the gradient of activation functions can be very small. Multiplied together across many layers, their product can be vanishingly small! This results in weights not being updated in the front layers and training not progressing.\n",
    "<br/><br/>\n",
    "Gradients of the sigmoid function, for example, are in the range 0 to 0.25. To calculate gradients for the front layers of a neural network the chain rule is used. This means that these tiny values are multiplied starting at the last layer, working backwards to the first layer, with the gradients shrinking exponentially at each step.\n",
    "## Imports"
   ]
  },
  {
   "cell_type": "code",
   "execution_count": 1,
   "metadata": {
    "tags": []
   },
   "outputs": [],
   "source": [
    "import numpy as np\n",
    "import matplotlib.pyplot as plt\n",
    "\n",
    "%matplotlib inline"
   ]
  },
  {
   "cell_type": "markdown",
   "metadata": {},
   "source": [
    "## Data, Activation & Gradient\n",
    "\n",
    "### Data\n",
    "I'll start be creating some data, nothing special going on here. Just some values spread across the interval -5 to 5.\n",
    "* Try changing the range of values in the data to see how it impacts the plots that follow.\n",
    "\n",
    "### Activation\n",
    "The example here is sigmoid() to squish the data x into the interval 0 to 1.\n",
    "\n",
    "### Gradient\n",
    "This is the derivative of the sigmoid() activation function. It has a maximum of 0.25 at x = 0, the steepest point on the sigmoid plot.\n",
    "* Try changing the x value for finding the tangent line in the plot.\n",
    "\n",
    "<img src = 'sigmoid_tangent.png' width=\"width\" height=\"height\" style=\"height:250px;\"/>\n",
    "\n",
    "\n"
   ]
  },
  {
   "cell_type": "code",
   "execution_count": 2,
   "metadata": {},
   "outputs": [
    {
     "data": {
      "image/png": "[encoded data removed]",
      "text/plain": [
       "<Figure size 432x288 with 1 Axes>"
      ]
     },
     "metadata": {
      "needs_background": "light"
     },
     "output_type": "display_data"
    }
   ],
   "source": [
    "# Data\n",
    "# Interval [-5, 5]\n",
    "### START CODE HERE ###\n",
    "x = np.linspace(-100,100,10#-5, 5, 100)  # try changing the range of values in the data. eg: (-100,100,1000)\n",
    "### END CODE HERE ###\n",
    "# Activation\n",
    "# Interval [0, 1]\n",
    "def sigmoid(x):\n",
    "    return 1 / (1 + np.exp(-x))\n",
    "\n",
    "activations = sigmoid(x)\n",
    "\n",
    "# Gradient\n",
    "# Interval [0, 0.25]\n",
    "def sigmoid_gradient(x):\n",
    "    return (x) * (1 - x)\n",
    "\n",
    "gradients = sigmoid_gradient(activations)\n",
    "\n",
    "# Plot sigmoid with tangent line\n",
    "plt.plot(x, activations)\n",
    "plt.title(\"Sigmoid Steepest Point\")\n",
    "plt.xlabel(\"x input data\")\n",
    "plt.ylabel(\"sigmoid(x)\")\n",
    "\n",
    "# Add the tangent line\n",
    "### START CODE HERE ###\n",
    "x_tan = 0   # x value to find the tangent. try different values within x declared above. eg: 2  \n",
    "### END CODE HERE ###\n",
    "y_tan = sigmoid(x_tan)  # y value\n",
    "span = 1.7              # line span along x axis\n",
    "data_tan = np.linspace(x_tan - span, x_tan + span)  # x values to plot\n",
    "gradient_tan = sigmoid_gradient(sigmoid(x_tan))     # gradient of the tangent\n",
    "tan = y_tan + gradient_tan * (data_tan - x_tan)     # y values to plot\n",
    "plt.plot(x_tan, y_tan, marker=\"o\", color=\"orange\", label=True)  # marker\n",
    "plt.plot(data_tan, tan, linestyle=\"--\", color=\"orange\")         # line\n",
    "plt.show()"
   ]
  },
  {
   "cell_type": "markdown",
   "metadata": {},
   "source": [
    "## Plots\n",
    "### Sub Plots\n",
    "Data values along the x-axis of the plots on the interval chosen for x, -5 to 5. Subplots:\n",
    "- x vs x\n",
    "- sigmoid of x\n",
    "- gradient of sigmoid\n",
    "\n",
    "Notice how the y axis keeps compressing from the left plot to the right plot. The interval range has shrunk from 10 to 1 to 0.25. How did this happen? As |x| gets larger the sigmoid approaches asymptotes at 0 and 1, and the sigmoid gradient shrinks towards 0.\n",
    "* Try changing the range of values in the code block above to see how it impacts the plots."
   ]
  },
  {
   "cell_type": "code",
   "execution_count": null,
   "metadata": {},
   "outputs": [],
   "source": [
    "# Sub plots\n",
    "fig, axs = plt.subplots(1, 3, figsize=(15, 4), sharex=True)\n",
    "\n",
    "# X values\n",
    "axs[0].plot(x, x)\n",
    "axs[0].set_title(\"x values\")\n",
    "axs[0].set_ylabel(\"y=x\")\n",
    "axs[0].set_xlabel(\"x input data\")\n",
    "\n",
    "# Sigmoid\n",
    "axs[1].plot(x, activations)\n",
    "axs[1].set_title(\"sigmoid\")\n",
    "axs[1].set_ylabel(\"sigmoid\")\n",
    "axs[1].set_xlabel(\"x input data\")\n",
    "\n",
    "# Sigmoid gradient\n",
    "axs[2].plot(x, gradients)\n",
    "axs[2].set_title(\"sigmoid gradient\")\n",
    "axs[2].set_ylabel(\"gradient\")\n",
    "axs[2].set_xlabel(\"x input data\")\n",
    "\n",
    "fig.show()"
   ]
  },
  {
   "cell_type": "markdown",
   "metadata": {},
   "source": [
    "### Single Plot\n",
    "Putting all 3 series on a single plot can help visualize the compression. Notice how hard it is to interpret because sigmoid and sigmoid gradient are so small compared to the scale of the input data x.\n",
    "* Trying changing the plot ylim to zoom in."
   ]
  },
  {
   "cell_type": "code",
   "execution_count": null,
   "metadata": {
    "tags": []
   },
   "outputs": [],
   "source": [
    "# Single plot\n",
    "plt.plot(x, x, label=\"data\")\n",
    "plt.plot(x, activations, label=\"sigmoid\")\n",
    "plt.plot(x, gradients, label=\"sigmoid gradient\")\n",
    "plt.legend(loc=\"upper left\")\n",
    "plt.title(\"Visualizing Compression\")\n",
    "plt.xlabel(\"x input data\")\n",
    "plt.ylabel(\"range\")\n",
    "### START CODE HERE ###\n",
    "# plt.ylim(-.5, 1.5)    # try shrinking the y axis limit for better visualization. eg: uncomment this line\n",
    "### END CODE HERE ###\n",
    "plt.show()\n",
    "\n",
    "# Max, Min of each array\n",
    "print(\"\")\n",
    "print(\"Max of x data :\", np.max(x))\n",
    "print(\"Min of x data :\", np.min(x), \"\\n\")\n",
    "print(\"Max of sigmoid :\", \"{:.3f}\".format(np.max(activations)))\n",
    "print(\"Min of sigmoid :\", \"{:.3f}\".format(np.min(activations)), \"\\n\")\n",
    "print(\"Max of gradients :\", \"{:.3f}\".format(np.max(gradients)))\n",
    "print(\"Min of gradients :\", \"{:.3f}\".format(np.min(gradients)))"
   ]
  },
  {
   "cell_type": "markdown",
   "metadata": {},
   "source": [
    "## Numerical Impact\n",
    "###  Multiplication & Decay\n",
    "Multiplying numbers smaller than 1 results in smaller and smaller numbers. Below is an example that finds the gradient for an input x = 0 and multiplies it over n steps. Look how quickly it 'Vanishes' to almost zero. Yet sigmoid(x=0)=0.5 which has a sigmoid gradient of 0.25 and that happens to be the largest sigmoid gradient possible!\n",
    "<br/><br/>\n",
    "(Note: This is NOT an implementation of back propagation.)\n",
    "* Try changing the number of steps n.\n",
    "* Try changing the input value x. Consider the impact on sigmoid and sigmoid gradient."
   ]
  },
  {
   "cell_type": "code",
   "execution_count": null,
   "metadata": {
    "tags": []
   },
   "outputs": [],
   "source": [
    "# Simulate decay\n",
    "# Inputs\n",
    "### START CODE HERE ###\n",
    "n = 6  # number of steps : try changing this\n",
    "x = 0  # value for input x : try changing this\n",
    "### END CODE HERE ###\n",
    "grad = sigmoid_gradient(sigmoid(x))\n",
    "steps = np.arange(1, n + 1)\n",
    "print(\"-- Inputs --\")\n",
    "print(\"steps :\", n)\n",
    "print(\"x value :\", x)\n",
    "print(\"sigmoid :\", \"{:.5f}\".format(sigmoid(x)))\n",
    "print(\"gradient :\", \"{:.5f}\".format(grad), \"\\n\")\n",
    "\n",
    "# Loop to calculate cumulative total\n",
    "print(\"-- Loop --\")\n",
    "vals = []\n",
    "total_grad = 1  # initialize to 1 to satisfy first loop below\n",
    "for s in steps:\n",
    "    total_grad = total_grad * grad\n",
    "    vals.append(total_grad)\n",
    "    print(\"step\", s, \":\", total_grad)\n",
    "\n",
    "print(\"\")\n",
    "\n",
    "# Plot\n",
    "plt.plot(steps, vals)\n",
    "plt.xticks(steps)\n",
    "plt.title(\"Multiplying Small Numbers\")\n",
    "plt.xlabel(\"Steps\")\n",
    "plt.ylabel(\"Cumulative Gradient\")\n",
    "plt.show()"
   ]
  },
  {
   "cell_type": "markdown",
   "metadata": {},
   "source": [
    "## Solution\n",
    "One solution is to use activation functions that don't have tiny gradients. Other solutions involve more sophisticated model design. But they're both discussions for another time."
   ]
  }
 ],
 "metadata": {
  "jupytext": {
   "formats": "ipynb,py",
   "main_language": "python"
  },
  "kernelspec": {
   "display_name": "Python 3",
   "language": "python",
   "name": "python3"
  },
  "language_info": {
   "codemirror_mode": {
    "name": "ipython",
    "version": 3
   },
   "file_extension": ".py",
   "mimetype": "text/x-python",
   "name": "python",
   "nbconvert_exporter": "python",
   "pygments_lexer": "ipython3",
   "version": "3.7.6"
  }
 },
 "nbformat": 4,
 "nbformat_minor": 2
}
